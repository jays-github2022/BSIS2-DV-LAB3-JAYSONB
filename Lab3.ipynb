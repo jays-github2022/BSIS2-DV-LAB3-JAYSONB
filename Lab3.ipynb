{
  "nbformat": 4,
  "nbformat_minor": 0,
  "metadata": {
    "colab": {
      "provenance": [],
      "authorship_tag": "ABX9TyOZijaoUsAShVtZDAEK9kvi",
      "include_colab_link": true
    },
    "kernelspec": {
      "name": "python3",
      "display_name": "Python 3"
    },
    "language_info": {
      "name": "python"
    }
  },
  "cells": [
    {
      "cell_type": "markdown",
      "metadata": {
        "id": "view-in-github",
        "colab_type": "text"
      },
      "source": [
        "<a href=\"https://colab.research.google.com/github/jays-github2022/BSIS2-DV-LAB3-JAYSONB/blob/main/Lab3.ipynb\" target=\"_parent\"><img src=\"https://colab.research.google.com/assets/colab-badge.svg\" alt=\"Open In Colab\"/></a>"
      ]
    },
    {
      "cell_type": "code",
      "execution_count": 2,
      "metadata": {
        "colab": {
          "base_uri": "https://localhost:8080/"
        },
        "id": "PwEsJ3ycu8fS",
        "outputId": "1dc066d7-2f63-42f2-ef63-ce901c68dc6d"
      },
      "outputs": [
        {
          "output_type": "stream",
          "name": "stdout",
          "text": [
            "Hello! Please enter your name:\n",
            "Jayson\n",
            "Enter your age:\n",
            "23\n",
            "Enter your weight (in kg):\n",
            "50\n",
            "Enter your height (in cm):\n",
            "167\n",
            "These are your inputs:\n",
            "Jayson\n",
            "23\n",
            "50\n",
            "167\n",
            "BMI Diagnosis: Obese\n"
          ]
        }
      ],
      "source": [
        "\n",
        "#BSIS2-DV-LAB3\n",
        "\n",
        "print(\"Hello! Please enter your name:\")\n",
        "\n",
        "name = input()\n",
        "\n",
        "print(\"Enter your age:\")\n",
        "\n",
        "age = int(input())\n",
        "\n",
        "print(\"Enter your weight (in kg):\")\n",
        "\n",
        "weight = int(input())\n",
        "\n",
        "print(\"Enter your height (in cm):\")\n",
        "\n",
        "height = int(input())\n",
        "\n",
        "print(\"These are your inputs:\")\n",
        "\n",
        "print(name)\n",
        "\n",
        "print(age)\n",
        "\n",
        "print(weight)\n",
        "\n",
        "print(height)\n",
        "\n",
        "bmiCompute = (weight/(height/100) * (height/100))\n",
        "\n",
        "if (bmiCompute < 18.5):\n",
        "\n",
        "  print(\"BMI Diagnosis: Underweight\")\n",
        "\n",
        "elif (bmiCompute < 24.9):\n",
        "\n",
        "  print(\"BMI Diagnosis: Normal/Healthy\")\n",
        "\n",
        "elif (bmiCompute < 29.9):\n",
        "\n",
        "  print(\"BMI Diagnosis: Overweight\")\n",
        "\n",
        "elif (bmiCompute > 30):\n",
        "\n",
        "  print(\"BMI Diagnosis: Obese\")"
      ]
    }
  ]
}